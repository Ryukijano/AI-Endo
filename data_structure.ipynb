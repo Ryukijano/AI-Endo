{
 "cells": [
  {
   "cell_type": "code",
   "execution_count": 1,
   "metadata": {},
   "outputs": [
    {
     "name": "stdout",
     "output_type": "stream",
     "text": [
      "Data dictionary keys: ['Video1', 'Video2', 'Video3', 'Video4']\n",
      "\n",
      "Example data structure for first video:\n",
      "Video name: Video1\n",
      "Keys in video dict: dict_keys(['img', 'phase'])\n"
     ]
    }
   ],
   "source": [
    "import pickle\n",
    "\n",
    "# Load and check the data dictionary\n",
    "with open('/home/ryukijano/AI-Endo/DATA_DICT_EXVIVO.pkl', 'rb') as f:\n",
    "    data_dict = pickle.load(f)\n",
    "    \n",
    "# Print the keys and structure\n",
    "print(\"Data dictionary keys:\", list(data_dict.keys()))\n",
    "print(\"\\nExample data structure for first video:\")\n",
    "first_video = list(data_dict.keys())[0]\n",
    "print(f\"Video name: {first_video}\")\n",
    "print(\"Keys in video dict:\", data_dict[first_video].keys())"
   ]
  },
  {
   "cell_type": "code",
   "execution_count": 2,
   "metadata": {},
   "outputs": [
    {
     "name": "stdout",
     "output_type": "stream",
     "text": [
      "Video1: 6234 images, 6234 phase labels\n",
      "Video2: 7713 images, 7713 phase labels\n",
      "Video3: 10746 images, 10746 phase labels\n",
      "Video4: 5421 images, 5421 phase labels\n",
      "\n",
      "Videos with missing phase labels: []\n"
     ]
    }
   ],
   "source": [
    "import pickle\n",
    "\n",
    "# Path to the DATA_DICT_EXvivo.pkl file\n",
    "data_dict_path = '/home/ryukijano/AI-Endo/DATA_DICT_EXVIVO.pkl'\n",
    "\n",
    "# Load the data dictionary\n",
    "with open(data_dict_path, 'rb') as f:\n",
    "    data_dict = pickle.load(f)\n",
    "\n",
    "# Verify the structure\n",
    "for video_name, data in data_dict.items():\n",
    "    num_images = len(data['img'])\n",
    "    num_labels = len(data['phase']) if data['phase'] else 0\n",
    "    print(f\"{video_name}: {num_images} images, {num_labels} phase labels\")\n",
    "    if data['phase'] and num_images != num_labels:\n",
    "        print(f\"  -> MISMATCH: {num_images} images vs {num_labels} labels\")\n",
    "\n",
    "# Identify videos with missing phase labels\n",
    "missing_labels = [video_name for video_name, data in data_dict.items() if data['phase'] is None]\n",
    "print(f\"\\nVideos with missing phase labels: {missing_labels}\")"
   ]
  },
  {
   "cell_type": "code",
   "execution_count": 3,
   "metadata": {},
   "outputs": [
    {
     "name": "stdout",
     "output_type": "stream",
     "text": [
      "Available videos: dict_keys(['Video1', 'Video2', 'Video3', 'Video4'])\n",
      "Video4 images: 5421\n"
     ]
    }
   ],
   "source": [
    "with open('/home/ryukijano/AI-Endo/DATA_DICT_EXVIVO.pkl', 'rb') as f:\n",
    "    data_dict = pickle.load(f)\n",
    "\n",
    "print(\"Available videos:\", data_dict.keys())\n",
    "print(\"Video4 images:\", len(data_dict.get('Video4', {}).get('img', [])))"
   ]
  },
  {
   "cell_type": "code",
   "execution_count": 1,
   "metadata": {},
   "outputs": [
    {
     "name": "stdout",
     "output_type": "stream",
     "text": [
      "PyTorch version: 2.2.1\n",
      "CUDA available: True\n",
      "CUDA version: 12.1\n",
      "Current CUDA device: 0\n",
      "Device name: NVIDIA GeForce RTX 4090\n"
     ]
    }
   ],
   "source": [
    "import torch\n",
    "print(f\"PyTorch version: {torch.__version__}\")\n",
    "print(f\"CUDA available: {torch.cuda.is_available()}\")\n",
    "if torch.cuda.is_available():\n",
    "    print(f\"CUDA version: {torch.version.cuda}\")\n",
    "    print(f\"Current CUDA device: {torch.cuda.current_device()}\")\n",
    "    print(f\"Device name: {torch.cuda.get_device_name()}\")"
   ]
  },
  {
   "cell_type": "code",
   "execution_count": 3,
   "metadata": {},
   "outputs": [
    {
     "name": "stdout",
     "output_type": "stream",
     "text": [
      "Data dictionary keys: ['Video1', 'Video2', 'Video3', 'Video4']\n",
      "\n",
      "Example data structure for first video:\n",
      "Video name: Video1\n",
      "Keys in video dict: dict_keys(['img', 'phase'])\n"
     ]
    }
   ],
   "source": [
    "import pickle\n",
    "\n",
    "# Load and check the data dictionary\n",
    "with open('/home/ryukijano/AI-Endo/DATA_DICT_EXVIVO.pkl', 'rb') as f:\n",
    "    data_dict = pickle.load(f)\n",
    "    \n",
    "# Print the keys and structure\n",
    "print(\"Data dictionary keys:\", list(data_dict.keys()))\n",
    "print(\"\\nExample data structure for first video:\")\n",
    "first_video = list(data_dict.keys())[0]\n",
    "print(f\"Video name: {first_video}\")\n",
    "print(\"Keys in video dict:\", data_dict[first_video].keys())"
   ]
  },
  {
   "cell_type": "code",
   "execution_count": 4,
   "metadata": {},
   "outputs": [
    {
     "name": "stdout",
     "output_type": "stream",
     "text": [
      "Keys in DATA_DICT_EXVIVO.pkl: ['Video1', 'Video2', 'Video3', 'Video4']\n"
     ]
    }
   ],
   "source": [
    "# data_structure.ipynb\n",
    "import pickle\n",
    "\n",
    "with open('/home/ryukijano/AI-Endo/DATA_DICT_EXVIVO.pkl', 'rb') as f:\n",
    "    data_dict = pickle.load(f)\n",
    "\n",
    "print('Keys in DATA_DICT_EXVIVO.pkl:', list(data_dict.keys()))"
   ]
  },
  {
   "cell_type": "code",
   "execution_count": 10,
   "metadata": {},
   "outputs": [
    {
     "name": "stdout",
     "output_type": "stream",
     "text": [
      "Video1:\n",
      "  Images in data_dict: 6234\n",
      "  Features generated: 6234\n",
      "Video2:\n",
      "  Images in data_dict: 7713\n",
      "  Features generated: 7713\n",
      "Video3:\n",
      "  Images in data_dict: 10746\n",
      "  Features generated: 10746\n",
      "Video4:\n",
      "  Images in data_dict: 5421\n",
      "  Features generated: 5421\n"
     ]
    }
   ],
   "source": [
    "import pickle\n",
    "\n",
    "with open('/home/ryukijano/AI-Endo/DATA_DICT_EXVIVO.pkl', 'rb') as f:\n",
    "    data_dict = pickle.load(f)\n",
    "\n",
    "with open('/home/ryukijano/AI-Endo/model/emb_ESDSafety2025-06-21-04-45.pkl', 'rb') as f:\n",
    "    feature_embs = pickle.load(f)\n",
    "\n",
    "for video in sorted(data_dict.keys()):\n",
    "    print(f\"{video}:\")\n",
    "    print(f\"  Images in data_dict: {len(data_dict[video]['img'])}\")\n",
    "    print(f\"  Features generated: {len(feature_embs.get(video, []))}\")"
   ]
  },
  {
   "cell_type": "code",
   "execution_count": 9,
   "metadata": {},
   "outputs": [
    {
     "name": "stdout",
     "output_type": "stream",
     "text": [
      "Keys in data_dict:\n",
      "Video1\n",
      "Video2\n",
      "Video3\n",
      "Video4\n"
     ]
    }
   ],
   "source": [
    "import pickle\n",
    "\n",
    "with open('/home/ryukijano/AI-Endo/DATA_DICT_EXVIVO.pkl', 'rb') as f:\n",
    "    data_dict = pickle.load(f)\n",
    "\n",
    "print(\"Keys in data_dict:\")\n",
    "for key in data_dict.keys():\n",
    "    print(key)"
   ]
  },
  {
   "cell_type": "code",
   "execution_count": 11,
   "metadata": {},
   "outputs": [
    {
     "name": "stdout",
     "output_type": "stream",
     "text": [
      "Keys in DATA_DICT_INVIVO.pkl:\n",
      "Video1\n",
      "Video10\n",
      "Video11\n",
      "Video12\n",
      "Video2\n",
      "Video3\n",
      "Video4\n",
      "Video5\n",
      "Video6\n",
      "Video7\n",
      "Video8\n",
      "Video9\n"
     ]
    }
   ],
   "source": [
    "import pickle\n",
    "\n",
    "with open('/home/ryukijano/AI-Endo/DATA_DICT_INVIVO.pkl', 'rb') as f:\n",
    "    data_dict = pickle.load(f)\n",
    "\n",
    "print(\"Keys in DATA_DICT_INVIVO.pkl:\")\n",
    "for key in data_dict.keys():\n",
    "    print(key)"
   ]
  },
  {
   "cell_type": "code",
   "execution_count": 12,
   "metadata": {},
   "outputs": [
    {
     "name": "stdout",
     "output_type": "stream",
     "text": [
      "Video1: 5280 images, 5280 phase labels\n",
      "Video10: 1040 images, 1040 phase labels\n",
      "Video11: 2110 images, 2110 phase labels\n",
      "Video12: 2260 images, 2260 phase labels\n",
      "Video2: 2940 images, 2940 phase labels\n",
      "Video3: 3660 images, 3660 phase labels\n",
      "Video4: 1860 images, 1860 phase labels\n",
      "Video5: 1380 images, 1380 phase labels\n",
      "Video6: 4622 images, 4622 phase labels\n",
      "Video7: 2120 images, 2120 phase labels\n",
      "Video8: 960 images, 960 phase labels\n",
      "Video9: 1270 images, 1270 phase labels\n"
     ]
    }
   ],
   "source": [
    "import pickle\n",
    "\n",
    "with open('/home/ryukijano/AI-Endo/DATA_DICT_INVIVO.pkl', 'rb') as f:\n",
    "    data_dict = pickle.load(f)\n",
    "\n",
    "for video, content in data_dict.items():\n",
    "    print(f\"{video}: {len(content['img'])} images, {len(content['phase'])} phase labels\")"
   ]
  },
  {
   "cell_type": "code",
   "execution_count": null,
   "metadata": {},
   "outputs": [],
   "source": []
  }
 ],
 "metadata": {
  "kernelspec": {
   "display_name": "AI-Endo",
   "language": "python",
   "name": "python3"
  },
  "language_info": {
   "codemirror_mode": {
    "name": "ipython",
    "version": 3
   },
   "file_extension": ".py",
   "mimetype": "text/x-python",
   "name": "python",
   "nbconvert_exporter": "python",
   "pygments_lexer": "ipython3",
   "version": "3.10.16"
  }
 },
 "nbformat": 4,
 "nbformat_minor": 2
}
